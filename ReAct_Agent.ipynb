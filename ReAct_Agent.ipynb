{
 "cells": [
  {
   "cell_type": "code",
   "execution_count": 36,
   "id": "55a45f6b",
   "metadata": {},
   "outputs": [],
   "source": [
    "## Setting up LangSmith for tracing \n",
    "from dotenv import load_dotenv\n",
    "load_dotenv()\n",
    "import os\n",
    "os.environ['LANGCHAIN_API_KEY'] = os.getenv(\"LANGCHAIN_API_KEY\")\n",
    "os.environ['LANGCHAIN_TRACING_V2'] = \"true\"\n",
    "os.environ['LANGCHAIN_PROJECT'] = \"ReAct-Agent\"\n",
    "os.environ['TAVILY_API_KEY'] = os.getenv(\"TAVILY_API_KEY\")"
   ]
  },
  {
   "cell_type": "markdown",
   "id": "ce4a319d",
   "metadata": {},
   "source": [
    "## **`ReAct Agent Architechture works in loop manner that call the tool perform a particular job and then go back to llm and llm further reason on it `**"
   ]
  },
  {
   "cell_type": "code",
   "execution_count": 9,
   "id": "de5a68fc",
   "metadata": {},
   "outputs": [],
   "source": [
    "model = 'qwen/qwen3-32b'"
   ]
  },
  {
   "cell_type": "code",
   "execution_count": 10,
   "id": "218fe912",
   "metadata": {},
   "outputs": [],
   "source": [
    "from langchain_groq import ChatGroq\n",
    "llm = ChatGroq(model=model)"
   ]
  },
  {
   "cell_type": "code",
   "execution_count": 12,
   "id": "a8d5e599",
   "metadata": {},
   "outputs": [],
   "source": [
    "## Defining the state of Graph\n",
    "\n",
    "from typing import Annotated , TypedDict\n",
    "from langgraph.graph.message import add_messages # this is the reducer for appending messages in the list\n",
    "from langchain_core.messages import AnyMessage , AIMessage , HumanMessage \n",
    "class State(TypedDict):\n",
    "    messages : Annotated[list[AnyMessage] , add_messages]"
   ]
  },
  {
   "cell_type": "code",
   "execution_count": 23,
   "id": "750b9d63",
   "metadata": {},
   "outputs": [],
   "source": [
    "def add(a , b):\n",
    "    \"\"\"\n",
    "    Add two numbers a and b\n",
    "    Args:\n",
    "    a : first int\n",
    "    b : Second int\n",
    "\n",
    "    \"\"\"\n",
    "    return a + b\n",
    "def multiplication(a , b):\n",
    "    \"\"\"\n",
    "    multiply two numbers a and b\n",
    "    Args:\n",
    "    a : first int\n",
    "    b : Second int\n",
    "\n",
    "    \"\"\"\n",
    "    return a * b"
   ]
  },
  {
   "cell_type": "code",
   "execution_count": 37,
   "id": "c32a3dd6",
   "metadata": {},
   "outputs": [
    {
     "name": "stderr",
     "output_type": "stream",
     "text": [
      "C:\\Users\\User\\AppData\\Local\\Temp\\ipykernel_6020\\8954523.py:10: LangChainDeprecationWarning: The class `TavilySearchResults` was deprecated in LangChain 0.3.25 and will be removed in 1.0. An updated version of the class exists in the :class:`~langchain-tavily package and should be used instead. To use it run `pip install -U :class:`~langchain-tavily` and import as `from :class:`~langchain_tavily import TavilySearch``.\n",
      "  tavily = TavilySearchResults()\n"
     ]
    }
   ],
   "source": [
    "from langchain_community.tools import ArxivQueryRun , WikipediaQueryRun\n",
    "from langchain_community.utilities import ArxivAPIWrapper , WikipediaAPIWrapper\n",
    "arxiv_api = ArxivAPIWrapper(top_k_results=2 , doc_content_chars_max=2000)\n",
    "arxiv = ArxivQueryRun(api_wrapper=arxiv_api)\n",
    "\n",
    "wikipedia_api = WikipediaAPIWrapper(top_k_results=2 , doc_content_chars_max=2000)\n",
    "wikipedia = WikipediaQueryRun(api_wrapper=wikipedia_api)\n",
    "\n",
    "from langchain_community.tools.tavily_search import TavilySearchResults\n",
    "tavily = TavilySearchResults()"
   ]
  },
  {
   "cell_type": "code",
   "execution_count": 38,
   "id": "08bfc57b",
   "metadata": {},
   "outputs": [],
   "source": [
    "tools = [add , multiplication , wikipedia , arxiv , tavily]"
   ]
  },
  {
   "cell_type": "code",
   "execution_count": 39,
   "id": "9072fac2",
   "metadata": {},
   "outputs": [],
   "source": [
    "## Binding LLM Tool\n",
    "\n",
    "llm_with_tool = llm.bind_tools(tools)\n",
    "# llm_with_tool.invoke([HumanMessage(content=\"what is 2 + 2\" , name = \"shahbaz\")])\n"
   ]
  },
  {
   "cell_type": "code",
   "execution_count": 40,
   "id": "ffe19733",
   "metadata": {},
   "outputs": [],
   "source": [
    "### Making LLM with Tool Node so that it act as brain and call the tools rightly\n",
    "\n",
    "def llm_tool(state : State):\n",
    "    \n",
    "    return {'messages' : [llm_with_tool.invoke(state['messages'])]}"
   ]
  },
  {
   "cell_type": "code",
   "execution_count": 41,
   "id": "a88db814",
   "metadata": {},
   "outputs": [
    {
     "data": {
      "image/png": "[encoded data removed]",
      "text/plain": [
       "<IPython.core.display.Image object>"
      ]
     },
     "metadata": {},
     "output_type": "display_data"
    }
   ],
   "source": [
    "from IPython.display import Image, display\n",
    "from langgraph.graph import StateGraph, START, END\n",
    "from langgraph.prebuilt import ToolNode , tools_condition\n",
    "builder = StateGraph(State)\n",
    "## Adding nodes in LLM \n",
    "builder.add_node('llm_tool' , llm_tool)\n",
    "builder.add_node('tools' , ToolNode(tools))\n",
    "\n",
    "## Defining the WorkFlow\n",
    "\n",
    "builder.add_edge(START , 'llm_tool')\n",
    "builder.add_conditional_edges('llm_tool' , tools_condition)\n",
    "builder.add_edge('tools' , 'llm_tool')\n",
    "\n",
    "graph = builder.compile()\n",
    "\n",
    "display(Image(graph.get_graph().draw_mermaid_png()))"
   ]
  },
  {
   "cell_type": "code",
   "execution_count": 42,
   "id": "3fd66ecb",
   "metadata": {},
   "outputs": [
    {
     "name": "stdout",
     "output_type": "stream",
     "text": [
      "================================\u001b[1m Human Message \u001b[0m=================================\n",
      "\n",
      "what is the current AI news and add 2 + 2\n",
      "==================================\u001b[1m Ai Message \u001b[0m==================================\n",
      "Tool Calls:\n",
      "  add (xgz5k4kfg)\n",
      " Call ID: xgz5k4kfg\n",
      "  Args:\n",
      "    a: 2\n",
      "    b: 2\n",
      "  tavily_search_results_json (xg7eyeatr)\n",
      " Call ID: xg7eyeatr\n",
      "  Args:\n",
      "    query: current AI news\n",
      "=================================\u001b[1m Tool Message \u001b[0m=================================\n",
      "Name: add\n",
      "\n",
      "4\n",
      "=================================\u001b[1m Tool Message \u001b[0m=================================\n",
      "Name: tavily_search_results_json\n",
      "\n",
      "[{\"title\": \"AI News Briefs BULLETIN BOARD for July 2025\", \"url\": \"https://radicaldatascience.wordpress.com/2025/07/17/ai-news-briefs-bulletin-board-for-july-2025/\", \"content\": \"[7/14/2025] Moonshot AI’s Kimi K2 outperforms GPT-4 in key benchmarks – Chinese startup Moonshot AI released Kimi K2, a 1 trillion parameter open-source model that matches proprietary models on complex agentic tasks. The model was trained using a novel MuonClip optimizer that prevents training crashes that plague model development, potentially saving millions in computational costs. [...] [7/14/2025] Apple Will Seriously Consider Buying Mistral – Apple is seriously considering acquiring Mistral, a French AI startup that has raised a total of €1.1 billion over seven funding rounds. Mistral has launched a range of large and small language models over the years and achieved notable success with its optical character recognition features. It is currently Europe’s biggest AI startup. The acquisition of an AI startup would provide a much-needed boost to Apple’s AI ecosystem. [...] [7/14/2025] Windsurf’s CEO goes to Google; OpenAI’s acquisition falls apart – Google DeepMind hired Windsurf CEO Varun Mohan, co-founder Douglas Chen, and key researchers after OpenAI’s $3 billion acquisition attempt failed. Google gains a nonexclusive license to Windsurf’s technology, enhancing its AI coding capabilities without direct control. Windsurf faces uncertainty as it loses top talent, continuing to offer AI coding tools with Jeff Wang as interim CEO.\", \"score\": 0.83225065}, {\"title\": \"The latest AI news we announced in June - Google Blog\", \"url\": \"https://blog.google/technology/ai/google-ai-updates-june-2025/\", \"content\": \"# The latest AI news we announced in June\\n\\nJul 02, 2025\\n\\nHere’s a recap of some of our biggest AI updates from June, including more ways to search with AI Mode, a new way to share your NotebookLM notebooks publicly, and a new AI to help researchers better understand the human genome.\\n\\nSuperG\\n\\n## Basic explainer [...] Search finds new voice, and photos bright,  \\nWhile Chromebooks gain AI's keenest edge,  \\nAnd learning's path is filled with light.\\n\\nGenomes unlock, from knowledge pledge,  \\nAnd robots learn, with vision clear,  \\nWhile cancer's foe meets AI's siege.\\n\\nFrom Google's labs, new AI doth spring,  \\nWith Gemini's models taking flight,  \\nAnd tools for coders, joy to bring.\\n\\nSearch finds new voice, and photos bright,  \\nWhile Chromebooks gain AI's keenest edge,  \\nAnd learning's path is filled with light. [...] a text card reading \\\"AI to revolutionize scientific discovery\\\"\\n\\nWe introduced AlphaGenome: AI to better understand the human genome. Our new, unifying DNA sequence model advances regulatory variant-effect prediction and promises to shed new light on genome function. To advance scientific research, we’re making AlphaGenome available in preview via our AlphaGenome API for non-commercial research, with plans to release the model in the future.\", \"score\": 0.79080546}, {\"title\": \"AI News & Artificial Intelligence | TechCrunch\", \"url\": \"https://techcrunch.com/category/artificial-intelligence/\", \"content\": \"Contact Us\\n\\n# AI\\n\\nNews coverage on artificial intelligence and machine learning tech, the companies building them, and the ethical issues AI raises today. This encompasses generative AI, including large language models, text-to-image and text-to-video models; speech recognition and generation; and predictive analytics.\\n\\n### \\n\\nPerplexity AI logo is seen on a smartphone and on a PC screen.\\n\\n### Perplexity sees India as a shortcut in its race against OpenAI\\n\\nAnthropic Claude logo on mobile [...] ### Anthropic tightens usage limits for Claude Code – without telling users\\n\\nOpenAI logo with spiraling pastel colors (Image Credits: Bryce Durbin / TechCrunch)\\n\\n### OpenAI launches a general purpose agent in ChatGPT\\n\\nMistral logo on laptop screen\\n\\n### Mistral’s Le Chat chatbot gets a productivity push with new ‘deep research’ mode\\n\\nJonathan Mortensen, CEO/founder of Confident Security\\n\\n### Confident Security, ‘the Signal for AI,’ comes out of stealth with $4.2M [...] Meta negotiations with moderators in Kenya over labor dispute collapse\\n\\n### Meta fixes bug that could leak users’ AI prompts and generated content\\n\\n### Mira Murati’s Thinking Machines Lab is worth $12B in seed round\\n\\ngoogle search app ios\\n\\n### Google Discover adds AI summaries, threatening publishers with further traffic declines\\n\\n### AI coding tools are shifting to a surprising place: The terminal\\n\\nPeople walking in a maze shaped as a brain\", \"score\": 0.7077487}, {\"title\": \"Artificial Intelligence - AI News - Reuters\", \"url\": \"https://www.reuters.com/technology/artificial-intelligence/\", \"content\": \"# Artificial Intelligence\\n\\nHow Artificial Intelligence is creating the next normal\\n\\nChina's Commerce Minister Wang Wentao told Nvidia CEO Jensen Huang on Thursday that he hoped multinational companies, including Nvidia, would provide high-quality and reliable products and services to Chinese customers, the ministry said in a statement.\\n\\nChina International Supply Chain Expo opens in Beijing\\n\\n## Reuters Events Logo\\n\\nReuters Events Logo\\n\\nEvent\\n\\n28-29 Apr 2025 · New York, USA [...] Artificial Intelligence silicon chip with Reuters logo\\n\\nEvent\\n\\n15-16 Jul 2025 · San Jose, USA\\n\\nArtificial Intelligence Chip with Reuters logo\\n\\nEvent\\n\\n17 Sep 2025 · Singapore, USA\\n\\nArtificial Intelligence silicon chip with Reuters logo\\n\\nEvent\\n\\n29-30 Sep 2025 · London, UK\\n\\nArtificial Intelligence Chip with Reuters logo\\n\\n## More Coverage\\n\\n## Site Index\\n\\n## Browse\\n\\n## About Reuters\\n\\n## Stay Informed\\n\\n## Information you can trust\", \"score\": 0.638588}, {\"title\": \"Artificial intelligence | Massachusetts Institute of Technology\", \"url\": \"https://news.mit.edu/topic/artificial-intelligence2\", \"content\": \"The simulations matched results from an underground lab experiment in Switzerland, suggesting modeling could be used to validate the safety of nuclear disposal sites.\\n\\nJuly 18, 2025\\n\\nRead full story →\\n\\nA robot thinking between numbers and letters\\n\\n### This “smart coach” helps LLMs switch between text and code\\n\\nThe CodeSteer system could boost large language models’ accuracy when solving complex problems, such as scheduling shipments in a supply chain.\\n\\nJuly 17, 2025\\n\\nRead full story → [...] An AI pipeline developed by CSAIL researchers enables unique hydrodynamic designs for bodyboard-sized vehicles that glide underwater and could help scientists gather marine data.\\n\\nJuly 9, 2025\\n\\nRead full story →\\n\\nA robot holds a lightbulb, surrounded by chalkboards.\\n\\n### Study could lead to LLMs that are better at complex reasoning\\n\\nResearchers developed a way to make large language models more adaptable to challenging tasks like strategic planning or process optimization.\\n\\nJuly 8, 2025 [...] The Language/AI Incubator, an MIT Human Insight Collaborative project, is investigating how AI can improve communications among patients and practitioners.\\n\\nJuly 9, 2025\\n\\nRead full story →\\n\\n2 by 2 grid featuring a computer model of a ray-like board shape surrounded by red points connected in a mesh; red and aqua 3D models of gliders; and real-world versions of each board underwater\\n\\n### AI shapes autonomous underwater “gliders”\", \"score\": 0.5806618}]\n",
      "==================================\u001b[1m Ai Message \u001b[0m==================================\n",
      "\n",
      "The result of 2 + 2 is **4**.\n",
      "\n",
      "### Current AI News Highlights:\n",
      "1. **Moonshot AI's Kimi K2**  \n",
      "   - Chinese startup Moonshot AI released Kimi K2, a 1 trillion parameter open-source model that matches GPT-4 in benchmarks. It uses a novel MuonClip optimizer to prevent training crashes.  \n",
      "   [Source](https://radicaldatascience.wordpress.com/2025/07/17/ai-news-briefs-bulletin-board-for-july-2025/)\n",
      "\n",
      "2. **Apple's Potential Mistral Acquisition**  \n",
      "   - Apple is seriously considering buying Mistral, Europe’s largest AI startup, to bolster its AI ecosystem. Mistral specializes in language models and OCR technology.  \n",
      "   [Source](https://radicaldatascience.wordpress.com/2025/07/17/ai-news-briefs-bulletin-board-for-july-2025/)\n",
      "\n",
      "3. **Google Acquires Windsurf Technology**  \n",
      "   - Google DeepMind acquired Windsurf’s AI coding tools after OpenAI’s $3B bid failed. Windsurf’s tech enhances AI-driven code development.  \n",
      "   [Source](https://radicaldatascience.wordpress.com/2025/07/17/ai-news-briefs-bulletin-board-for-july-2025/)\n",
      "\n",
      "4. **Google’s AlphaGenome**  \n",
      "   - Google introduced AlphaGenome, an AI model for human genome research, available via API for non-commercial use.  \n",
      "   [Source](https://blog.google/technology/ai/google-ai-updates-june-2025/)\n",
      "\n",
      "5. **MIT’s AI Innovations**  \n",
      "   - MIT researchers developed CodeSteer (for text-code switching in LLMs) and AI-driven autonomous underwater gliders for marine data collection.  \n",
      "   [Source](https://news.mit.edu/topic/artificial-intelligence2)\n",
      "\n",
      "6. **OpenAI’s New ChatGPT Agent**  \n",
      "   - OpenAI launched a general-purpose AI agent in ChatGPT, improving task automation and complex problem-solving.  \n",
      "   [Source](https://techcrunch.com/category/artificial-intelligence/)\n",
      "\n",
      "For more details, click on the respective links!\n"
     ]
    }
   ],
   "source": [
    "from pprint import pprint\n",
    "messages = graph.invoke({\"messages\" : [HumanMessage(content=\"what is the current AI news and add 2 + 2\")]})\n",
    "for m in messages['messages']:\n",
    "    m.pretty_print()"
   ]
  },
  {
   "cell_type": "code",
   "execution_count": null,
   "id": "03fcc049",
   "metadata": {},
   "outputs": [],
   "source": []
  }
 ],
 "metadata": {
  "kernelspec": {
   "display_name": "Python 3",
   "language": "python",
   "name": "python3"
  },
  "language_info": {
   "codemirror_mode": {
    "name": "ipython",
    "version": 3
   },
   "file_extension": ".py",
   "mimetype": "text/x-python",
   "name": "python",
   "nbconvert_exporter": "python",
   "pygments_lexer": "ipython3",
   "version": "3.12.0"
  }
 },
 "nbformat": 4,
 "nbformat_minor": 5
}
