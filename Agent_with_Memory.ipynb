{
 "cells": [
  {
   "cell_type": "markdown",
   "id": "6d3227f5",
   "metadata": {},
   "source": [
    "# **`Agent Memory`**"
   ]
  },
  {
   "cell_type": "markdown",
   "id": "9a8cf5c0",
   "metadata": {
    "vscode": {
     "languageId": "plaintext"
    }
   },
   "source": [
    "## MemorySaver in LangGraph\n",
    "#### LangGraph uses Checkpointers for storing memory at each state"
   ]
  },
  {
   "cell_type": "code",
   "execution_count": null,
   "id": "ddb655a1",
   "metadata": {},
   "outputs": [],
   "source": [
    "from langchain_groq import ChatGroq\n",
    "llm = ChatGroq(model=\"llama-3.3-70b-versatile\")\n",
    "# llm.invoke('what is LLM')\n",
    "#### Model Depreciation Link ::: https://console.groq.com/docs/deprecations"
   ]
  },
  {
   "cell_type": "code",
   "execution_count": 51,
   "id": "c6b00c6d",
   "metadata": {},
   "outputs": [],
   "source": [
    "def add(a , b):\n",
    "    \"\"\"\n",
    "    Add two numbers a and b\n",
    "    Args:\n",
    "    a : first int\n",
    "    b : Second int\n",
    "\n",
    "    \"\"\"\n",
    "    return a + b\n",
    "def multiplication(a , b):\n",
    "    \"\"\"\n",
    "    multiply two numbers a and b\n",
    "    Args:\n",
    "    a : first int\n",
    "    b : Second int\n",
    "\n",
    "    \"\"\"\n",
    "    return a * b\n",
    "tools = [add , multiplication]"
   ]
  },
  {
   "cell_type": "code",
   "execution_count": 52,
   "id": "37174c1a",
   "metadata": {},
   "outputs": [],
   "source": [
    "llm_with_tool = llm.bind_tools(tools)"
   ]
  },
  {
   "cell_type": "code",
   "execution_count": 53,
   "id": "bdefbb89",
   "metadata": {},
   "outputs": [],
   "source": [
    "## Defining the state of Graph\n",
    "\n",
    "from typing import Annotated , TypedDict\n",
    "from langgraph.graph.message import add_messages # this is the reducer for appending messages in the list\n",
    "from langchain_core.messages import AnyMessage , AIMessage , HumanMessage \n",
    "class State(TypedDict):\n",
    "    messages : Annotated[list[AnyMessage] , add_messages]\n",
    "    \n",
    "def llm_tool(state : State):\n",
    "    \n",
    "    return {'messages' : [llm_with_tool.invoke(state['messages'])]}"
   ]
  },
  {
   "cell_type": "code",
   "execution_count": 54,
   "id": "d913dd96",
   "metadata": {},
   "outputs": [
    {
     "data": {
      "text/plain": [
       "<langgraph.graph.state.StateGraph at 0x1a66b567aa0>"
      ]
     },
     "execution_count": 54,
     "metadata": {},
     "output_type": "execute_result"
    }
   ],
   "source": [
    "from IPython.display import Image, display\n",
    "from langgraph.graph import StateGraph, START, END\n",
    "from langgraph.prebuilt import ToolNode , tools_condition\n",
    "builder = StateGraph(State)\n",
    "## Adding nodes in LLM \n",
    "builder.add_node('llm_tool' , llm_tool)\n",
    "builder.add_node('tools' , ToolNode(tools))\n",
    "\n",
    "## Defining the WorkFlow\n",
    "\n",
    "builder.add_edge(START , 'llm_tool')\n",
    "builder.add_conditional_edges('llm_tool' , tools_condition)\n",
    "builder.add_edge('tools' , 'llm_tool')\n",
    "\n"
   ]
  },
  {
   "cell_type": "code",
   "execution_count": 55,
   "id": "22b7baf0",
   "metadata": {},
   "outputs": [
    {
     "data": {
      "image/png": "[encoded data removed]",
      "text/plain": [
       "<IPython.core.display.Image object>"
      ]
     },
     "metadata": {},
     "output_type": "display_data"
    }
   ],
   "source": [
    "## Each and Every node when executed this particular checkpoints got updated\n",
    "\n",
    "from langgraph.checkpoint.memory import MemorySaver\n",
    "memory = MemorySaver()\n",
    "\n",
    "graph_memory = builder.compile(checkpointer=memory)\n",
    "display(Image(graph_memory.get_graph().draw_mermaid_png()))"
   ]
  },
  {
   "cell_type": "code",
   "execution_count": 56,
   "id": "ed105046",
   "metadata": {},
   "outputs": [],
   "source": [
    "## Specify the Thread \n",
    "\n",
    "config = {\"configurable\" : {\"thread_id\" : \"1\"}} ## each thread_id should be unique for user"
   ]
  },
  {
   "cell_type": "code",
   "execution_count": 57,
   "id": "e7a2a4b8",
   "metadata": {},
   "outputs": [
    {
     "name": "stdout",
     "output_type": "stream",
     "text": [
      "================================\u001b[1m Human Message \u001b[0m=================================\n",
      "\n",
      "Add 12 and 13\n",
      "==================================\u001b[1m Ai Message \u001b[0m==================================\n",
      "Tool Calls:\n",
      "  add (dcstcwggm)\n",
      " Call ID: dcstcwggm\n",
      "  Args:\n",
      "    a: 12\n",
      "    b: 13\n",
      "=================================\u001b[1m Tool Message \u001b[0m=================================\n",
      "Name: add\n",
      "\n",
      "25\n",
      "==================================\u001b[1m Ai Message \u001b[0m==================================\n",
      "\n",
      "The result of adding 12 and 13 is 25.\n"
     ]
    }
   ],
   "source": [
    "messages = [HumanMessage(content=\"Add 12 and 13\")]\n",
    "from pprint import pprint\n",
    "messages = graph_memory.invoke({\"messages\" : messages} , config=config)\n",
    "for m in messages['messages']:\n",
    "    m.pretty_print()"
   ]
  },
  {
   "cell_type": "code",
   "execution_count": 58,
   "id": "740e1631",
   "metadata": {},
   "outputs": [
    {
     "name": "stdout",
     "output_type": "stream",
     "text": [
      "================================\u001b[1m Human Message \u001b[0m=================================\n",
      "\n",
      "Add 12 and 13\n",
      "==================================\u001b[1m Ai Message \u001b[0m==================================\n",
      "Tool Calls:\n",
      "  add (dcstcwggm)\n",
      " Call ID: dcstcwggm\n",
      "  Args:\n",
      "    a: 12\n",
      "    b: 13\n",
      "=================================\u001b[1m Tool Message \u001b[0m=================================\n",
      "Name: add\n",
      "\n",
      "25\n",
      "==================================\u001b[1m Ai Message \u001b[0m==================================\n",
      "\n",
      "The result of adding 12 and 13 is 25.\n",
      "================================\u001b[1m Human Message \u001b[0m=================================\n",
      "\n",
      "multiply that number with 2\n",
      "==================================\u001b[1m Ai Message \u001b[0m==================================\n",
      "Tool Calls:\n",
      "  multiplication (f04n84e5s)\n",
      " Call ID: f04n84e5s\n",
      "  Args:\n",
      "    a: 25\n",
      "    b: 2\n",
      "=================================\u001b[1m Tool Message \u001b[0m=================================\n",
      "Name: multiplication\n",
      "\n",
      "50\n",
      "==================================\u001b[1m Ai Message \u001b[0m==================================\n",
      "\n",
      "The result of multiplying 25 by 2 is 50.\n"
     ]
    }
   ],
   "source": [
    "messages = [HumanMessage(content=\"multiply that number with 2\")]\n",
    "from pprint import pprint\n",
    "messages = graph_memory.invoke({\"messages\" : messages} , config=config)\n",
    "for m in messages['messages']:\n",
    "    m.pretty_print()"
   ]
  },
  {
   "cell_type": "code",
   "execution_count": null,
   "id": "a841c874",
   "metadata": {},
   "outputs": [],
   "source": []
  }
 ],
 "metadata": {
  "kernelspec": {
   "display_name": "Python 3",
   "language": "python",
   "name": "python3"
  },
  "language_info": {
   "codemirror_mode": {
    "name": "ipython",
    "version": 3
   },
   "file_extension": ".py",
   "mimetype": "text/x-python",
   "name": "python",
   "nbconvert_exporter": "python",
   "pygments_lexer": "ipython3",
   "version": "3.12.0"
  }
 },
 "nbformat": 4,
 "nbformat_minor": 5
}
